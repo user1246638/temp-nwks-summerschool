{
 "cells": [
  {
   "cell_type": "markdown",
   "metadata": {},
   "source": [
    "# P01 - 08: Introducing `scipy`\n",
    "\n",
    "**April 23, 2020**  \n",
    "*Ingo Scholtes*  \n",
    "\n",
    "This notebook introduces basic statistical concepts in the package `scipy`, which we will use for statistical data analysis and hypothesis in the following practice lectures.\n",
    "\n",
    "## Sparse matrix algebra"
   ]
  },
  {
   "cell_type": "markdown",
   "metadata": {},
   "source": [
    "Naturally extending the introduction of vector and matrix operations in `numpy` in the last unit, we first highlight `scipy`'s support for efficient operations on sparse matrices and vector, i.e. large matrices where most entries are actually zeros. In data science, we often deal with such matrices, be it in the context of network analysis and graph mining (where each non-existing link leads to a zero entry in the adjacency matrix) or when we we deal with matrices capturing similarity scores (where zero entries indicate objects that are either not similar or for which the similarty is not known).\n",
    "\n",
    "Clearly, it is not efficient to perform mathematical operations on matrices where the majority of entries is zero anyway. The module `scipy.sparse` thus offers classes to represent such matrices. The class `csr_matrix` (CSR = Compressed Sparse Row) for instance can be initialised from a list of `python` lists or, conveniently, from a `numpy` array. As we see below, different from a `numpy` array, the class `csr_matrix` only stores the non-zero entries of the matrix:"
   ]
  },
  {
   "cell_type": "code",
   "execution_count": 1,
   "metadata": {},
   "outputs": [
    {
     "name": "stdout",
     "output_type": "stream",
     "text": [
      "[[1. 0. 1.]\n",
      " [0. 1. 0.]\n",
      " [0. 0. 1.]]\n",
      "  (0, 0)\t1.0\n",
      "  (0, 2)\t1.0\n",
      "  (1, 1)\t1.0\n",
      "  (2, 2)\t1.0\n"
     ]
    }
   ],
   "source": [
    "import numpy as np\n",
    "import scipy.sparse\n",
    "\n",
    "matrix = np.array([[1., 0., 1.], [0., 1., 0.], [0., 0., 1.]])\n",
    "print(matrix)\n",
    "\n",
    "sparse_matrix = scipy.sparse.csr_matrix(matrix)\n",
    "sparse_matrix\n",
    "print(sparse_matrix)"
   ]
  },
  {
   "cell_type": "markdown",
   "metadata": {},
   "source": [
    "If we wish to recover a representation with zeros, we can call the `to_dense` method on an instance of `csr_matrix`. This function returns an instance of the class `numpy.matrix`:"
   ]
  },
  {
   "cell_type": "code",
   "execution_count": 2,
   "metadata": {},
   "outputs": [
    {
     "name": "stdout",
     "output_type": "stream",
     "text": [
      "[[1. 0. 1.]\n",
      " [0. 1. 0.]\n",
      " [0. 0. 1.]]\n",
      "<class 'numpy.matrix'>\n"
     ]
    }
   ],
   "source": [
    "print(sparse_matrix.todense())\n",
    "print(type(sparse_matrix.todense()))"
   ]
  },
  {
   "cell_type": "markdown",
   "metadata": {},
   "source": [
    "We can directly perform vector and matrix operations on sparse matrices, i.e. we can do the following:"
   ]
  },
  {
   "cell_type": "code",
   "execution_count": 3,
   "metadata": {},
   "outputs": [
    {
     "name": "stdout",
     "output_type": "stream",
     "text": [
      "[[2. 3. 3.]]\n"
     ]
    }
   ],
   "source": [
    "v = scipy.sparse.csr_matrix([2,3,1])\n",
    "w = v.dot(sparse_matrix)\n",
    "print(w.todense())"
   ]
  },
  {
   "cell_type": "markdown",
   "metadata": {},
   "source": [
    "To compute eigenvalues and eigenvectors, we can use the `eigs` function:"
   ]
  },
  {
   "cell_type": "code",
   "execution_count": 4,
   "metadata": {},
   "outputs": [
    {
     "name": "stdout",
     "output_type": "stream",
     "text": [
      "[1.+0.j]\n",
      "[[ 2.65526779e-04+0.j]\n",
      " [-9.99999965e-01+0.j]\n",
      " [-1.77839385e-17+0.j]]\n"
     ]
    }
   ],
   "source": [
    "import scipy.sparse.linalg\n",
    "\n",
    "w, v = scipy.sparse.linalg.eigs(sparse_matrix, k=1)\n",
    "print(w)\n",
    "print(v)"
   ]
  },
  {
   "cell_type": "code",
   "execution_count": 5,
   "metadata": {},
   "outputs": [
    {
     "name": "stdout",
     "output_type": "stream",
     "text": [
      "[ 2.65526779e-04+0.j -9.99999965e-01+0.j -1.77839385e-17+0.j]\n",
      "[ 2.65526779e-04+0.j -9.99999965e-01+0.j -1.77839385e-17+0.j]\n"
     ]
    }
   ],
   "source": [
    "print(sparse_matrix.dot(v[:,0]))\n",
    "print(w[0]* v[:,0])"
   ]
  },
  {
   "cell_type": "markdown",
   "metadata": {},
   "source": [
    "## Statistical computing with `scipy.stats`\n",
    "\n",
    "In our course, we will extensively use `scipy`'s implementation of statistical functions, random variables, and probability distributions to generate random multi-variate data, perform linear regression, or test hypotheses. These functions are implemented in the statistics module `scipy.stats`, which contains an [extensive list of classes](https://docs.scipy.org/doc/scipy/reference/stats.html) that implements random variables distributed according various well-known probability distributions. We can, for instance, create a continuous random variable distributed according to a standard normal distribution (with mean 0 and standard deviation 1) as follows:\n",
    "\n",
    "\n",
    "\n"
   ]
  },
  {
   "cell_type": "code",
   "execution_count": 6,
   "metadata": {},
   "outputs": [],
   "source": [
    "import scipy.stats\n",
    "norm = scipy.stats.norm()"
   ]
  },
  {
   "cell_type": "markdown",
   "metadata": {},
   "source": [
    "Depending on the domain of the distribution, `scipy` returns an instance of class [`rv_continuous`](https://docs.scipy.org/doc/scipy/reference/generated/scipy.stats.rv_continuous.html#scipy.stats.rv_continuous) or [`rv_discrete`](https://docs.scipy.org/doc/scipy/reference/generated/scipy.stats.rv_discrete.html#scipy.stats.rv_discrete). Both classes provide functions that -- among other things -- allow us to (i) generate random realisations of the random variable, (ii) calculate moments of the distribution (i.e. mean, variance, skewness, etc.), and (iii) get the underlying probability distribution or cumulative distribution function.\n",
    "\n",
    "To generate a `numpy` array of 100 random realisations of the normally distributed random variable, we can do the following:"
   ]
  },
  {
   "cell_type": "code",
   "execution_count": 7,
   "metadata": {},
   "outputs": [
    {
     "name": "stdout",
     "output_type": "stream",
     "text": [
      "[ 0.13534168 -1.00952803  0.77448814  0.6710512  -0.89283774 -0.314427\n",
      " -0.77645475  0.645485    0.24913613  0.61844554 -0.00395505 -0.53668015\n",
      "  0.50233061 -0.67485157  2.89800895 -1.60677911  1.08209847  0.30794145\n",
      " -2.19027266 -1.71620504  0.03569584 -1.55183238  0.01985153  0.05459907\n",
      "  0.89135492  0.56636003  0.55741042 -0.62882403  1.15309218  1.16990735\n",
      " -0.74348215  0.3186753   1.14738583 -0.37393937  1.602499   -1.4242566\n",
      "  0.1130705   1.15333922 -0.30012787 -0.68281587  0.83081104  0.61176285\n",
      " -0.72713452  0.53478174 -0.38956851 -1.53914415  1.36492859 -1.33182518\n",
      " -1.20548287 -1.53856484  0.81915352 -0.00798128 -0.982206    0.76314186\n",
      "  1.21280394 -0.79784743 -1.27806637  1.76702113  0.80135559  0.53328068\n",
      "  0.16919552 -0.21082889  0.22855603 -1.04151423 -1.36382629  1.25784819\n",
      "  0.23470321 -0.30216807 -0.66064698  0.05528471  1.09671789 -0.28980808\n",
      " -0.57543303  0.06346526 -0.20519158  0.66509537 -0.17655788 -1.54037718\n",
      " -0.34961678  0.87125037 -0.27259372 -1.53199103  1.35296108  1.75036227\n",
      "  1.08185119  0.54178684 -0.62238976  1.73321547 -0.01323166  0.04963439\n",
      "  1.91950197 -0.35649231 -1.05281073  1.2332275  -0.77428419 -1.07286767\n",
      " -1.18971813  0.76370232  1.85286098 -1.2585211 ]\n"
     ]
    }
   ],
   "source": [
    "x = scipy.stats.norm.rvs(size=100)\n",
    "print(x)"
   ]
  },
  {
   "cell_type": "markdown",
   "metadata": {},
   "source": [
    "The above call generates 100 realisations of a normally distributed random variable with mean $\\mu=0$ and standard deviation $\\sigma^2=1$. A simple way to create realisations drawn from a normal distribution with arbitrary $\\mu$ and $\\sigma$ is to perform an element-wise addition and multiplication of the resulting `numpy` array. To obtain realisations from a normal distribution with mean $\\mu=5$ and standard deviation $\\sigma=2$, we can thus write:"
   ]
  },
  {
   "cell_type": "code",
   "execution_count": 8,
   "metadata": {},
   "outputs": [
    {
     "name": "stdout",
     "output_type": "stream",
     "text": [
      "Sample mean = 4.9802897815288265\n",
      "Sample variance = 2.0218355010460876\n"
     ]
    }
   ],
   "source": [
    "x = 5 + 2 * scipy.stats.norm.rvs(size=5000)\n",
    "print('Sample mean = {0}'.format(np.mean(x)))\n",
    "print('Sample variance = {0}'.format(np.std(x)))"
   ]
  },
  {
   "cell_type": "markdown",
   "metadata": {},
   "source": [
    "Let us try this with a discrete random variable, that is distributed according to the Poisson distibution. We can directly pass the single parameter $\\mu$ of the distribution to the `rvs` function."
   ]
  },
  {
   "cell_type": "code",
   "execution_count": 9,
   "metadata": {},
   "outputs": [
    {
     "name": "stdout",
     "output_type": "stream",
     "text": [
      "[6 6 7 6 8 3 5 3 7 2 6 2 3 3 6 5 1 5 5 6 9 6 3 5 4 6 4 7 6 4 3 4 4 4 5 8 5\n",
      " 5 6 6 3 4 4 5 7 7 2 8 4 5 4 6 5 3 8 6 7 8 8 3 5 3 6 4 4 5 4 8 4 4 3 5 1 6\n",
      " 4 6 5 5 5 6 5 4 3 2 2 8 5 7 5 9 4 6 5 5 8 2 5 8 5 4]\n"
     ]
    }
   ],
   "source": [
    "x = scipy.stats.poisson.rvs(mu=5, size=100)\n",
    "print(x)"
   ]
  },
  {
   "cell_type": "markdown",
   "metadata": {},
   "source": [
    "The following generates 100 realisations of a random variable distributed according to a Binomial distribution with parameters $n$ and $k$. For $n=1$ we obtain a sequence of Bernoulli trials that can be 0 or 1."
   ]
  },
  {
   "cell_type": "code",
   "execution_count": 10,
   "metadata": {},
   "outputs": [
    {
     "name": "stdout",
     "output_type": "stream",
     "text": [
      "[1 0 0 1 1 0 0 0 0 0 0 1 0 1 0 0 0 0 0 0 0 1 0 1 1 1 1 1 0 1 1 1 0 1 0 1 0\n",
      " 1 0 1 0 0 0 0 1 0 1 0 1 1 1 1 1 0 1 1 1 1 1 1 0 0 1 0 1 0 0 0 1 1 0 0 0 1\n",
      " 0 0 1 1 1 0 1 1 0 1 1 0 0 0 1 0 1 0 1 1 0 1 1 1 0 1]\n"
     ]
    }
   ],
   "source": [
    "x = scipy.stats.binom.rvs(p=0.5, n=1, size=100)\n",
    "print(x)"
   ]
  },
  {
   "cell_type": "markdown",
   "metadata": {},
   "source": [
    "For continuous random variables, we can obtain the value of the probability distribution or the cumulative distribution function at any point $x$ as follows:"
   ]
  },
  {
   "cell_type": "code",
   "execution_count": 11,
   "metadata": {},
   "outputs": [
    {
     "name": "stdout",
     "output_type": "stream",
     "text": [
      "0.3969525474770118\n",
      "0.539827837277029\n"
     ]
    }
   ],
   "source": [
    "x = scipy.stats.norm.pdf(x=0.1)\n",
    "print(x)\n",
    "\n",
    "x = scipy.stats.norm.cdf(x=0.1)\n",
    "print(x)"
   ]
  },
  {
   "cell_type": "markdown",
   "metadata": {},
   "source": [
    "For a discrete random variable, we can directly calculate the probability of any specific value based on the probability mass function:"
   ]
  },
  {
   "cell_type": "code",
   "execution_count": 12,
   "metadata": {},
   "outputs": [
    {
     "name": "stdout",
     "output_type": "stream",
     "text": [
      "0.00976562500000001\n"
     ]
    }
   ],
   "source": [
    "x = scipy.stats.binom.pmf(p=0.5, n=10, k=9)\n",
    "print(x)"
   ]
  },
  {
   "cell_type": "code",
   "execution_count": null,
   "metadata": {},
   "outputs": [],
   "source": []
  }
 ],
 "metadata": {
  "file_extension": ".py",
  "kernelspec": {
   "display_name": "Python 3",
   "language": "python",
   "name": "python3"
  },
  "language_info": {
   "codemirror_mode": {
    "name": "ipython",
    "version": 3
   },
   "file_extension": ".py",
   "mimetype": "text/x-python",
   "name": "python",
   "nbconvert_exporter": "python",
   "pygments_lexer": "ipython3",
   "version": "3.7.3"
  },
  "mimetype": "text/x-python",
  "name": "python",
  "npconvert_exporter": "python",
  "pygments_lexer": "ipython3",
  "toc": {
   "base_numbering": 1,
   "nav_menu": {},
   "number_sections": true,
   "sideBar": true,
   "skip_h1_title": false,
   "title_cell": "Table of Contents",
   "title_sidebar": "Contents",
   "toc_cell": false,
   "toc_position": {},
   "toc_section_display": true,
   "toc_window_display": false
  },
  "version": 3
 },
 "nbformat": 4,
 "nbformat_minor": 2
}
